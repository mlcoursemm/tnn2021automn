{
 "cells": [
  {
   "cell_type": "markdown",
   "metadata": {
    "id": "i2Ywxlb8mwVG"
   },
   "source": [
    "# Построение и обучение сверточной нейросети на Keras\n",
    "\n",
    "## Цикл обучения\n",
    "1. Подготовить данные \n",
    "2. Реализовать архитектуру модели\n",
    "3. Задать процедуру оптимизации\n",
    "4. Обучить\n",
    "5. Проверить"
   ]
  },
  {
   "cell_type": "markdown",
   "metadata": {
    "id": "7IHlGFAKoh6m"
   },
   "source": [
    "### Пример - обучение сверточной сети для MNIST\n",
    "\n",
    "* Загрузка необходимых модулей\n",
    "* Основные типы подмодулей из keras:\n",
    "  * model - для компиляции архитектуры, функции потерь и оптимизатора воедино\n",
    "  * layers - разные типы слоев (и сверточные, и несверточные)\n",
    "  * datasets - содержит предобработанные небольшие базы данных"
   ]
  },
  {
   "cell_type": "code",
   "execution_count": 4,
   "metadata": {
    "executionInfo": {
     "elapsed": 2236,
     "status": "ok",
     "timestamp": 1616432098982,
     "user": {
      "displayName": "anCHORiTetube",
      "photoUrl": "https://lh3.googleusercontent.com/a-/AOh14GjlF70ylFUkflOtfl-95qj8E6hxIhGsdT_HnI6w=s64",
      "userId": "08448648298728435853"
     },
     "user_tz": -180
    },
    "id": "lR3w46_VZFO6"
   },
   "outputs": [],
   "source": [
    "import numpy as np\n",
    "np.random.seed(12345)  # for reproducibility\n",
    "\n",
    "import keras \n",
    "from keras.models import Model # compile model\n",
    "from keras.layers import Dense, Flatten, Input # non-conv layeers\n",
    "from keras.layers import Conv2D, MaxPooling2D # conv layers\n",
    "from keras.utils import np_utils # one-hot encoding\n",
    "from keras.datasets import mnist # preprocessed dataset\n",
    " \n",
    "import matplotlib.pyplot as plt # visualization"
   ]
  },
  {
   "cell_type": "markdown",
   "metadata": {
    "id": "ym73WM7qpsCU"
   },
   "source": [
    "* Загружаем предобработанную БД изображений цифр (0-9) в оттенках серого: MNIST\n",
    "* MNIST содержит 60.000 изображений для обучения (по 6.000 для каждой цифры) и 10.000 для тестирования (по 1.000 для каждой цифры)"
   ]
  },
  {
   "cell_type": "code",
   "execution_count": 5,
   "metadata": {
    "colab": {
     "base_uri": "https://localhost:8080/"
    },
    "executionInfo": {
     "elapsed": 2230,
     "status": "ok",
     "timestamp": 1616432098986,
     "user": {
      "displayName": "anCHORiTetube",
      "photoUrl": "https://lh3.googleusercontent.com/a-/AOh14GjlF70ylFUkflOtfl-95qj8E6hxIhGsdT_HnI6w=s64",
      "userId": "08448648298728435853"
     },
     "user_tz": -180
    },
    "id": "5pGhvY89ZFPC",
    "outputId": "5e43cc66-a4e8-40c6-c7be-d068586b7074"
   },
   "outputs": [
    {
     "name": "stdout",
     "output_type": "stream",
     "text": [
      "(60000, 28, 28) (60000,) (10000, 28, 28) (10000,)\n"
     ]
    }
   ],
   "source": [
    "(X_train, y_train), (X_test, y_test) = mnist.load_data()\n",
    "print(X_train.shape, y_train.shape, X_test.shape, y_test.shape)"
   ]
  },
  {
   "cell_type": "markdown",
   "metadata": {
    "id": "Z6EElx5_qUbn"
   },
   "source": [
    "* Делаем дальнейшую предобработку данных:\n",
    "  * Добавляем канал цвета (вторым), в данном случае он всегда будет содержать одну размерность, но для цветных изображений это будет уже 3 (RGB)\n",
    "  * Меняем тип с uint8 на float32 и шкалируем в диапазон [0,1]"
   ]
  },
  {
   "cell_type": "code",
   "execution_count": 6,
   "metadata": {
    "colab": {
     "base_uri": "https://localhost:8080/"
    },
    "executionInfo": {
     "elapsed": 2221,
     "status": "ok",
     "timestamp": 1616432098987,
     "user": {
      "displayName": "anCHORiTetube",
      "photoUrl": "https://lh3.googleusercontent.com/a-/AOh14GjlF70ylFUkflOtfl-95qj8E6hxIhGsdT_HnI6w=s64",
      "userId": "08448648298728435853"
     },
     "user_tz": -180
    },
    "id": "qL-CADgMZFPD",
    "outputId": "19b9f003-8d9b-470a-f7f9-97654cc98d98"
   },
   "outputs": [
    {
     "name": "stdout",
     "output_type": "stream",
     "text": [
      "Min = 0.0 Max = 1.0 Type = float32\n"
     ]
    }
   ],
   "source": [
    "# NHW -> NCHW\n",
    "X_train = X_train.reshape(X_train.shape[0], 1, 28, 28)\n",
    "X_test = X_test.reshape(X_test.shape[0], 1, 28, 28)\n",
    "# Byte -> [0,1]\n",
    "X_train = X_train.astype('float32')\n",
    "X_test = X_test.astype('float32')\n",
    "X_train /= 255\n",
    "X_test /= 255\n",
    "\n",
    "# Check range and type of input data\n",
    "print(f'Min = {np.amin(X_train)} Max = {np.amax(X_train)} Type = {X_train.dtype}')"
   ]
  },
  {
   "cell_type": "markdown",
   "metadata": {
    "id": "3fw5N7CLrLLm"
   },
   "source": [
    "* Для функции потерь типа \"перекрестная энтропия\" делаем унитарное кодирование меток с помощью вспомогательной функции"
   ]
  },
  {
   "cell_type": "code",
   "execution_count": 7,
   "metadata": {
    "executionInfo": {
     "elapsed": 2211,
     "status": "ok",
     "timestamp": 1616432098987,
     "user": {
      "displayName": "anCHORiTetube",
      "photoUrl": "https://lh3.googleusercontent.com/a-/AOh14GjlF70ylFUkflOtfl-95qj8E6hxIhGsdT_HnI6w=s64",
      "userId": "08448648298728435853"
     },
     "user_tz": -180
    },
    "id": "W0UF4XJTrLYt"
   },
   "outputs": [],
   "source": [
    "# one-hot encoding\n",
    "Y_train = np_utils.to_categorical(y_train, 10)\n",
    "Y_test = np_utils.to_categorical(y_test, 10)"
   ]
  },
  {
   "cell_type": "markdown",
   "metadata": {
    "id": "aAgFeQRXrivi"
   },
   "source": [
    "* Посмотрим на случайное изображение с номером 12345"
   ]
  },
  {
   "cell_type": "code",
   "execution_count": 8,
   "metadata": {
    "colab": {
     "base_uri": "https://localhost:8080/",
     "height": 265
    },
    "executionInfo": {
     "elapsed": 2621,
     "status": "ok",
     "timestamp": 1616432099405,
     "user": {
      "displayName": "anCHORiTetube",
      "photoUrl": "https://lh3.googleusercontent.com/a-/AOh14GjlF70ylFUkflOtfl-95qj8E6hxIhGsdT_HnI6w=s64",
      "userId": "08448648298728435853"
     },
     "user_tz": -180
    },
    "id": "BtXB6MlkZFPE",
    "outputId": "9841a6bd-3e32-4319-82d4-6a569d0e8161"
   },
   "outputs": [
    {
     "data": {
      "image/png": "[encoded data removed]",
      "text/plain": [
       "<Figure size 432x288 with 1 Axes>"
      ]
     },
     "metadata": {
      "needs_background": "light"
     },
     "output_type": "display_data"
    }
   ],
   "source": [
    "index = 12345\n",
    "im = X_train[index, 0, :, :]\n",
    "plt.imshow(im)\n",
    "plt.show()"
   ]
  },
  {
   "cell_type": "markdown",
   "metadata": {
    "id": "NZSMqhsir1ZT"
   },
   "source": [
    "* Проверим его метку (как в обычном кодировании, так и в унитарном)"
   ]
  },
  {
   "cell_type": "code",
   "execution_count": 9,
   "metadata": {
    "colab": {
     "base_uri": "https://localhost:8080/"
    },
    "executionInfo": {
     "elapsed": 2613,
     "status": "ok",
     "timestamp": 1616432099407,
     "user": {
      "displayName": "anCHORiTetube",
      "photoUrl": "https://lh3.googleusercontent.com/a-/AOh14GjlF70ylFUkflOtfl-95qj8E6hxIhGsdT_HnI6w=s64",
      "userId": "08448648298728435853"
     },
     "user_tz": -180
    },
    "id": "CzrpYkYkr1vk",
    "outputId": "7d351a08-4914-4ff0-a648-cd136ea278cd"
   },
   "outputs": [
    {
     "name": "stdout",
     "output_type": "stream",
     "text": [
      "Usual label: 3\n",
      "Categorical label: [0. 0. 0. 1. 0. 0. 0. 0. 0. 0.]\n",
      "Categorical -> usual label: 3\n"
     ]
    }
   ],
   "source": [
    "y_usual = y_train[index]\n",
    "y_categorical = Y_train[index]\n",
    "y_categorical_as_usual = np.argmax(y_categorical)\n",
    "print(f'Usual label: {y_usual}')\n",
    "print(f'Categorical label: {y_categorical}')\n",
    "print(f'Categorical -> usual label: {y_categorical_as_usual}')"
   ]
  },
  {
   "cell_type": "markdown",
   "metadata": {
    "id": "qzZ1iapvuDw2"
   },
   "source": [
    "* Задаем архитектуру сети с помощью стандартных слоев\n",
    "* Процедура задания в функциональном стиле: сеть = новый_слой(сеть)\n",
    "* Можно задавать имя слоя с помощью параметра name\n",
    "* В самом конце задаем формальный вход(ы) и выход(ы)"
   ]
  },
  {
   "cell_type": "code",
   "execution_count": 20,
   "metadata": {
    "executionInfo": {
     "elapsed": 3398,
     "status": "ok",
     "timestamp": 1616432100202,
     "user": {
      "displayName": "anCHORiTetube",
      "photoUrl": "https://lh3.googleusercontent.com/a-/AOh14GjlF70ylFUkflOtfl-95qj8E6hxIhGsdT_HnI6w=s64",
      "userId": "08448648298728435853"
     },
     "user_tz": -180
    },
    "id": "cYNPXUkAZFPE"
   },
   "outputs": [],
   "source": [
    "# Input\n",
    "input_image = Input(shape=(1, 28, 28))\n",
    "# Convolutions: take into account that can use activations without additional layer\n",
    "conv1 = Conv2D(filters=32, kernel_size=(3, 3), activation='relu', data_format='channels_first')(input_image)\n",
    "conv2 = Conv2D(filters=32, kernel_size=(3, 3), activation='relu', data_format='channels_first')(conv1)\n",
    "# Pooling\n",
    "pool1 = MaxPooling2D(pool_size=(2,2), data_format='channels_first')(conv2)\n",
    "# Flatten in order to have later FC\n",
    "flatten = Flatten(name='My_flatten')(pool1)\n",
    "# Fully connected layer1\n",
    "dense1 = Dense(128, activation='relu')(flatten)\n",
    "# Fully connected layer2 + SoftMax\n",
    "dense2 = Dense(10, activation='softmax')(dense1)\n",
    "# Input/output\n",
    "model = Model(inputs=input_image, outputs=dense2)"
   ]
  },
  {
   "cell_type": "markdown",
   "metadata": {
    "id": "xBoE42L8vFxd"
   },
   "source": [
    "* Можно посмотреть на краткую сводку по модели с помощью summary()\n",
    "* Первая размерность - пакетная - будет обозначена как None\n",
    "* Посмотрим на число параметров\n",
    "* Также автоматически будут присвоены имена всем слоям, которым не было в явном порядке присвоено имя"
   ]
  },
  {
   "cell_type": "code",
   "execution_count": 18,
   "metadata": {
    "colab": {
     "base_uri": "https://localhost:8080/"
    },
    "executionInfo": {
     "elapsed": 3393,
     "status": "ok",
     "timestamp": 1616432100204,
     "user": {
      "displayName": "anCHORiTetube",
      "photoUrl": "https://lh3.googleusercontent.com/a-/AOh14GjlF70ylFUkflOtfl-95qj8E6hxIhGsdT_HnI6w=s64",
      "userId": "08448648298728435853"
     },
     "user_tz": -180
    },
    "id": "bePC8nEtZFPF",
    "outputId": "a7df22ae-4c70-4065-c98e-bfc3b5a6df59"
   },
   "outputs": [
    {
     "name": "stdout",
     "output_type": "stream",
     "text": [
      "_________________________________________________________________\n",
      "Layer (type)                 Output Shape              Param #   \n",
      "=================================================================\n",
      "input_3 (InputLayer)         (None, 1, 28, 28)         0         \n",
      "_________________________________________________________________\n",
      "conv2d_4 (Conv2D)            (None, 1, 28, 28)         10        \n",
      "=================================================================\n",
      "Total params: 10\n",
      "Trainable params: 10\n",
      "Non-trainable params: 0\n",
      "_________________________________________________________________\n"
     ]
    }
   ],
   "source": [
    "model.summary()"
   ]
  },
  {
   "cell_type": "markdown",
   "metadata": {
    "id": "GBm5L_N7wiDD"
   },
   "source": [
    "* Можно сохранить архитектуру сети как картинку"
   ]
  },
  {
   "cell_type": "code",
   "execution_count": 12,
   "metadata": {
    "colab": {
     "base_uri": "https://localhost:8080/",
     "height": 754
    },
    "executionInfo": {
     "elapsed": 3384,
     "status": "ok",
     "timestamp": 1616432100205,
     "user": {
      "displayName": "anCHORiTetube",
      "photoUrl": "https://lh3.googleusercontent.com/a-/AOh14GjlF70ylFUkflOtfl-95qj8E6hxIhGsdT_HnI6w=s64",
      "userId": "08448648298728435853"
     },
     "user_tz": -180
    },
    "id": "olotM3PPZFPF",
    "outputId": "925d156e-b16e-4124-e052-2f8066fd8f10"
   },
   "outputs": [],
   "source": [
    "from keras.utils import plot_model\n",
    "plot_model(model, to_file='model.png', show_shapes=True)"
   ]
  },
  {
   "cell_type": "markdown",
   "metadata": {
    "id": "a0xutlzJxx_M"
   },
   "source": [
    "* Теперь \"компилируем\" модель, а именно задаем:\n",
    "  * Функцию потерь\n",
    "  * Оптимизатор\n",
    "  * Метрики, которые будут вычисляться при обучении и тестировании (можно задать несколько, и даже разные для разных выходов)"
   ]
  },
  {
   "cell_type": "code",
   "execution_count": 13,
   "metadata": {
    "executionInfo": {
     "elapsed": 3375,
     "status": "ok",
     "timestamp": 1616432100206,
     "user": {
      "displayName": "anCHORiTetube",
      "photoUrl": "https://lh3.googleusercontent.com/a-/AOh14GjlF70ylFUkflOtfl-95qj8E6hxIhGsdT_HnI6w=s64",
      "userId": "08448648298728435853"
     },
     "user_tz": -180
    },
    "id": "QCE6ob_yZFPG"
   },
   "outputs": [
    {
     "name": "stdout",
     "output_type": "stream",
     "text": [
      "WARNING:tensorflow:From C:\\Users\\i00435064\\AppData\\Local\\Continuum\\anaconda3\\lib\\site-packages\\keras\\optimizers.py:790: The name tf.train.Optimizer is deprecated. Please use tf.compat.v1.train.Optimizer instead.\n",
      "\n"
     ]
    }
   ],
   "source": [
    "model.compile(loss='categorical_crossentropy',\n",
    "              optimizer='adam',\n",
    "              metrics=['accuracy'])"
   ]
  },
  {
   "cell_type": "markdown",
   "metadata": {
    "id": "FyaNZrDryyLY"
   },
   "source": [
    "* Наконец запускаем обучение!\n",
    "  * Для этого передаем на вход метода fit() обучающие данные с метками\n",
    "  * Указываем, какую часть обучающих данных использовать для валидации\n",
    "  * Указываем размер пакета данных для одной итерации оптимизации\n",
    "  * Указываем количество эпох\n",
    "* Выход - история обучения (потом проверим)"
   ]
  },
  {
   "cell_type": "code",
   "execution_count": 14,
   "metadata": {
    "colab": {
     "base_uri": "https://localhost:8080/"
    },
    "executionInfo": {
     "elapsed": 56186,
     "status": "ok",
     "timestamp": 1616432153027,
     "user": {
      "displayName": "anCHORiTetube",
      "photoUrl": "https://lh3.googleusercontent.com/a-/AOh14GjlF70ylFUkflOtfl-95qj8E6hxIhGsdT_HnI6w=s64",
      "userId": "08448648298728435853"
     },
     "user_tz": -180
    },
    "id": "p33QVUI9ZFPG",
    "outputId": "d35636bb-dffe-491f-fa05-ab77d32c5165"
   },
   "outputs": [
    {
     "name": "stdout",
     "output_type": "stream",
     "text": [
      "WARNING:tensorflow:From C:\\Users\\i00435064\\AppData\\Local\\Continuum\\anaconda3\\lib\\site-packages\\tensorflow\\python\\ops\\math_grad.py:1250: add_dispatch_support.<locals>.wrapper (from tensorflow.python.ops.array_ops) is deprecated and will be removed in a future version.\n",
      "Instructions for updating:\n",
      "Use tf.where in 2.0, which has the same broadcast rule as np.where\n",
      "Train on 45000 samples, validate on 15000 samples\n",
      "Epoch 1/10\n",
      "45000/45000 [==============================] - 65s 1ms/step - loss: 0.1421 - acc: 0.9563 - val_loss: 0.0576 - val_acc: 0.9825\n",
      "Epoch 2/10\n",
      "45000/45000 [==============================] - 62s 1ms/step - loss: 0.0437 - acc: 0.9863 - val_loss: 0.0508 - val_acc: 0.9836\n",
      "Epoch 3/10\n",
      "10912/45000 [======>.......................] - ETA: 44s - loss: 0.0240 - acc: 0.9929"
     ]
    },
    {
     "ename": "KeyboardInterrupt",
     "evalue": "",
     "output_type": "error",
     "traceback": [
      "\u001b[1;31m---------------------------------------------------------------------------\u001b[0m",
      "\u001b[1;31mKeyboardInterrupt\u001b[0m                         Traceback (most recent call last)",
      "\u001b[1;32m<ipython-input-14-731f7b7108d6>\u001b[0m in \u001b[0;36m<module>\u001b[1;34m\u001b[0m\n\u001b[1;32m----> 1\u001b[1;33m \u001b[0mhistory\u001b[0m \u001b[1;33m=\u001b[0m \u001b[0mmodel\u001b[0m\u001b[1;33m.\u001b[0m\u001b[0mfit\u001b[0m\u001b[1;33m(\u001b[0m\u001b[0mX_train\u001b[0m\u001b[1;33m,\u001b[0m \u001b[0mY_train\u001b[0m\u001b[1;33m,\u001b[0m \u001b[0mvalidation_split\u001b[0m\u001b[1;33m=\u001b[0m\u001b[1;36m0.25\u001b[0m\u001b[1;33m,\u001b[0m \u001b[0mbatch_size\u001b[0m\u001b[1;33m=\u001b[0m\u001b[1;36m32\u001b[0m\u001b[1;33m,\u001b[0m \u001b[0mepochs\u001b[0m\u001b[1;33m=\u001b[0m\u001b[1;36m10\u001b[0m\u001b[1;33m,\u001b[0m \u001b[0mverbose\u001b[0m\u001b[1;33m=\u001b[0m\u001b[1;36m1\u001b[0m\u001b[1;33m)\u001b[0m\u001b[1;33m\u001b[0m\u001b[1;33m\u001b[0m\u001b[0m\n\u001b[0m",
      "\u001b[1;32m~\\AppData\\Local\\Continuum\\anaconda3\\lib\\site-packages\\keras\\engine\\training.py\u001b[0m in \u001b[0;36mfit\u001b[1;34m(self, x, y, batch_size, epochs, verbose, callbacks, validation_split, validation_data, shuffle, class_weight, sample_weight, initial_epoch, steps_per_epoch, validation_steps, **kwargs)\u001b[0m\n\u001b[0;32m   1037\u001b[0m                                         \u001b[0minitial_epoch\u001b[0m\u001b[1;33m=\u001b[0m\u001b[0minitial_epoch\u001b[0m\u001b[1;33m,\u001b[0m\u001b[1;33m\u001b[0m\u001b[1;33m\u001b[0m\u001b[0m\n\u001b[0;32m   1038\u001b[0m                                         \u001b[0msteps_per_epoch\u001b[0m\u001b[1;33m=\u001b[0m\u001b[0msteps_per_epoch\u001b[0m\u001b[1;33m,\u001b[0m\u001b[1;33m\u001b[0m\u001b[1;33m\u001b[0m\u001b[0m\n\u001b[1;32m-> 1039\u001b[1;33m                                         validation_steps=validation_steps)\n\u001b[0m\u001b[0;32m   1040\u001b[0m \u001b[1;33m\u001b[0m\u001b[0m\n\u001b[0;32m   1041\u001b[0m     def evaluate(self, x=None, y=None,\n",
      "\u001b[1;32m~\\AppData\\Local\\Continuum\\anaconda3\\lib\\site-packages\\keras\\engine\\training_arrays.py\u001b[0m in \u001b[0;36mfit_loop\u001b[1;34m(model, f, ins, out_labels, batch_size, epochs, verbose, callbacks, val_f, val_ins, shuffle, callback_metrics, initial_epoch, steps_per_epoch, validation_steps)\u001b[0m\n\u001b[0;32m    197\u001b[0m                     \u001b[0mins_batch\u001b[0m\u001b[1;33m[\u001b[0m\u001b[0mi\u001b[0m\u001b[1;33m]\u001b[0m \u001b[1;33m=\u001b[0m \u001b[0mins_batch\u001b[0m\u001b[1;33m[\u001b[0m\u001b[0mi\u001b[0m\u001b[1;33m]\u001b[0m\u001b[1;33m.\u001b[0m\u001b[0mtoarray\u001b[0m\u001b[1;33m(\u001b[0m\u001b[1;33m)\u001b[0m\u001b[1;33m\u001b[0m\u001b[1;33m\u001b[0m\u001b[0m\n\u001b[0;32m    198\u001b[0m \u001b[1;33m\u001b[0m\u001b[0m\n\u001b[1;32m--> 199\u001b[1;33m                 \u001b[0mouts\u001b[0m \u001b[1;33m=\u001b[0m \u001b[0mf\u001b[0m\u001b[1;33m(\u001b[0m\u001b[0mins_batch\u001b[0m\u001b[1;33m)\u001b[0m\u001b[1;33m\u001b[0m\u001b[1;33m\u001b[0m\u001b[0m\n\u001b[0m\u001b[0;32m    200\u001b[0m                 \u001b[0mouts\u001b[0m \u001b[1;33m=\u001b[0m \u001b[0mto_list\u001b[0m\u001b[1;33m(\u001b[0m\u001b[0mouts\u001b[0m\u001b[1;33m)\u001b[0m\u001b[1;33m\u001b[0m\u001b[1;33m\u001b[0m\u001b[0m\n\u001b[0;32m    201\u001b[0m                 \u001b[1;32mfor\u001b[0m \u001b[0ml\u001b[0m\u001b[1;33m,\u001b[0m \u001b[0mo\u001b[0m \u001b[1;32min\u001b[0m \u001b[0mzip\u001b[0m\u001b[1;33m(\u001b[0m\u001b[0mout_labels\u001b[0m\u001b[1;33m,\u001b[0m \u001b[0mouts\u001b[0m\u001b[1;33m)\u001b[0m\u001b[1;33m:\u001b[0m\u001b[1;33m\u001b[0m\u001b[1;33m\u001b[0m\u001b[0m\n",
      "\u001b[1;32m~\\AppData\\Local\\Continuum\\anaconda3\\lib\\site-packages\\keras\\backend\\tensorflow_backend.py\u001b[0m in \u001b[0;36m__call__\u001b[1;34m(self, inputs)\u001b[0m\n\u001b[0;32m   2713\u001b[0m                 \u001b[1;32mreturn\u001b[0m \u001b[0mself\u001b[0m\u001b[1;33m.\u001b[0m\u001b[0m_legacy_call\u001b[0m\u001b[1;33m(\u001b[0m\u001b[0minputs\u001b[0m\u001b[1;33m)\u001b[0m\u001b[1;33m\u001b[0m\u001b[1;33m\u001b[0m\u001b[0m\n\u001b[0;32m   2714\u001b[0m \u001b[1;33m\u001b[0m\u001b[0m\n\u001b[1;32m-> 2715\u001b[1;33m             \u001b[1;32mreturn\u001b[0m \u001b[0mself\u001b[0m\u001b[1;33m.\u001b[0m\u001b[0m_call\u001b[0m\u001b[1;33m(\u001b[0m\u001b[0minputs\u001b[0m\u001b[1;33m)\u001b[0m\u001b[1;33m\u001b[0m\u001b[1;33m\u001b[0m\u001b[0m\n\u001b[0m\u001b[0;32m   2716\u001b[0m         \u001b[1;32melse\u001b[0m\u001b[1;33m:\u001b[0m\u001b[1;33m\u001b[0m\u001b[1;33m\u001b[0m\u001b[0m\n\u001b[0;32m   2717\u001b[0m             \u001b[1;32mif\u001b[0m \u001b[0mpy_any\u001b[0m\u001b[1;33m(\u001b[0m\u001b[0mis_tensor\u001b[0m\u001b[1;33m(\u001b[0m\u001b[0mx\u001b[0m\u001b[1;33m)\u001b[0m \u001b[1;32mfor\u001b[0m \u001b[0mx\u001b[0m \u001b[1;32min\u001b[0m \u001b[0minputs\u001b[0m\u001b[1;33m)\u001b[0m\u001b[1;33m:\u001b[0m\u001b[1;33m\u001b[0m\u001b[1;33m\u001b[0m\u001b[0m\n",
      "\u001b[1;32m~\\AppData\\Local\\Continuum\\anaconda3\\lib\\site-packages\\keras\\backend\\tensorflow_backend.py\u001b[0m in \u001b[0;36m_call\u001b[1;34m(self, inputs)\u001b[0m\n\u001b[0;32m   2673\u001b[0m             \u001b[0mfetched\u001b[0m \u001b[1;33m=\u001b[0m \u001b[0mself\u001b[0m\u001b[1;33m.\u001b[0m\u001b[0m_callable_fn\u001b[0m\u001b[1;33m(\u001b[0m\u001b[1;33m*\u001b[0m\u001b[0marray_vals\u001b[0m\u001b[1;33m,\u001b[0m \u001b[0mrun_metadata\u001b[0m\u001b[1;33m=\u001b[0m\u001b[0mself\u001b[0m\u001b[1;33m.\u001b[0m\u001b[0mrun_metadata\u001b[0m\u001b[1;33m)\u001b[0m\u001b[1;33m\u001b[0m\u001b[1;33m\u001b[0m\u001b[0m\n\u001b[0;32m   2674\u001b[0m         \u001b[1;32melse\u001b[0m\u001b[1;33m:\u001b[0m\u001b[1;33m\u001b[0m\u001b[1;33m\u001b[0m\u001b[0m\n\u001b[1;32m-> 2675\u001b[1;33m             \u001b[0mfetched\u001b[0m \u001b[1;33m=\u001b[0m \u001b[0mself\u001b[0m\u001b[1;33m.\u001b[0m\u001b[0m_callable_fn\u001b[0m\u001b[1;33m(\u001b[0m\u001b[1;33m*\u001b[0m\u001b[0marray_vals\u001b[0m\u001b[1;33m)\u001b[0m\u001b[1;33m\u001b[0m\u001b[1;33m\u001b[0m\u001b[0m\n\u001b[0m\u001b[0;32m   2676\u001b[0m         \u001b[1;32mreturn\u001b[0m \u001b[0mfetched\u001b[0m\u001b[1;33m[\u001b[0m\u001b[1;33m:\u001b[0m\u001b[0mlen\u001b[0m\u001b[1;33m(\u001b[0m\u001b[0mself\u001b[0m\u001b[1;33m.\u001b[0m\u001b[0moutputs\u001b[0m\u001b[1;33m)\u001b[0m\u001b[1;33m]\u001b[0m\u001b[1;33m\u001b[0m\u001b[1;33m\u001b[0m\u001b[0m\n\u001b[0;32m   2677\u001b[0m \u001b[1;33m\u001b[0m\u001b[0m\n",
      "\u001b[1;32m~\\AppData\\Local\\Continuum\\anaconda3\\lib\\site-packages\\tensorflow\\python\\client\\session.py\u001b[0m in \u001b[0;36m__call__\u001b[1;34m(self, *args, **kwargs)\u001b[0m\n\u001b[0;32m   1456\u001b[0m         ret = tf_session.TF_SessionRunCallable(self._session._session,\n\u001b[0;32m   1457\u001b[0m                                                \u001b[0mself\u001b[0m\u001b[1;33m.\u001b[0m\u001b[0m_handle\u001b[0m\u001b[1;33m,\u001b[0m \u001b[0margs\u001b[0m\u001b[1;33m,\u001b[0m\u001b[1;33m\u001b[0m\u001b[1;33m\u001b[0m\u001b[0m\n\u001b[1;32m-> 1458\u001b[1;33m                                                run_metadata_ptr)\n\u001b[0m\u001b[0;32m   1459\u001b[0m         \u001b[1;32mif\u001b[0m \u001b[0mrun_metadata\u001b[0m\u001b[1;33m:\u001b[0m\u001b[1;33m\u001b[0m\u001b[1;33m\u001b[0m\u001b[0m\n\u001b[0;32m   1460\u001b[0m           \u001b[0mproto_data\u001b[0m \u001b[1;33m=\u001b[0m \u001b[0mtf_session\u001b[0m\u001b[1;33m.\u001b[0m\u001b[0mTF_GetBuffer\u001b[0m\u001b[1;33m(\u001b[0m\u001b[0mrun_metadata_ptr\u001b[0m\u001b[1;33m)\u001b[0m\u001b[1;33m\u001b[0m\u001b[1;33m\u001b[0m\u001b[0m\n",
      "\u001b[1;31mKeyboardInterrupt\u001b[0m: "
     ]
    }
   ],
   "source": [
    "history = model.fit(X_train, Y_train, validation_split=0.25, batch_size=32, epochs=10, verbose=1)"
   ]
  },
  {
   "cell_type": "markdown",
   "metadata": {
    "id": "vI_BIA6aztjr"
   },
   "source": [
    "* Посмотрим на историю обучения\n",
    "  * Посмотрим как значения целевой функции потерь, так и на заданную метрику\n",
    "  * Посмотрим и на валидацию так же"
   ]
  },
  {
   "cell_type": "code",
   "execution_count": null,
   "metadata": {
    "colab": {
     "base_uri": "https://localhost:8080/",
     "height": 573
    },
    "executionInfo": {
     "elapsed": 56430,
     "status": "ok",
     "timestamp": 1616432153281,
     "user": {
      "displayName": "anCHORiTetube",
      "photoUrl": "https://lh3.googleusercontent.com/a-/AOh14GjlF70ylFUkflOtfl-95qj8E6hxIhGsdT_HnI6w=s64",
      "userId": "08448648298728435853"
     },
     "user_tz": -180
    },
    "id": "kWf0VSeCZFPH",
    "outputId": "0e5a2ffd-2f11-4cfd-de81-3f97030cc75b"
   },
   "outputs": [],
   "source": [
    "# Plot training & validation metrics (accuracy) values \n",
    "plt.plot(history.history['accuracy'])\n",
    "plt.plot(history.history['val_accuracy'])\n",
    "plt.title('Model accuracy')\n",
    "plt.ylabel('Accuracy')\n",
    "plt.xlabel('Epoch')\n",
    "plt.legend(['Train', 'Val'], loc='upper left')\n",
    "plt.show()\n",
    "\n",
    "# Plot training & validation loss values\n",
    "plt.plot(history.history['loss'])\n",
    "plt.plot(history.history['val_loss'])\n",
    "plt.title('Model loss')\n",
    "plt.ylabel('Loss')\n",
    "plt.xlabel('Epoch')\n",
    "plt.legend(['Train', 'Val'], loc='upper left')\n",
    "plt.show()"
   ]
  },
  {
   "cell_type": "markdown",
   "metadata": {
    "id": "_-aOsIcH0WSr"
   },
   "source": [
    "* Посчитаем функцию потерь и метрику на тесте с помощью метода evaluate()"
   ]
  },
  {
   "cell_type": "code",
   "execution_count": null,
   "metadata": {
    "colab": {
     "base_uri": "https://localhost:8080/"
    },
    "executionInfo": {
     "elapsed": 56906,
     "status": "ok",
     "timestamp": 1616432153768,
     "user": {
      "displayName": "anCHORiTetube",
      "photoUrl": "https://lh3.googleusercontent.com/a-/AOh14GjlF70ylFUkflOtfl-95qj8E6hxIhGsdT_HnI6w=s64",
      "userId": "08448648298728435853"
     },
     "user_tz": -180
    },
    "id": "-6Gh5PaJZFPH",
    "outputId": "5f7854da-5289-4df4-d9c8-5d98fc666c58"
   },
   "outputs": [],
   "source": [
    "score = model.evaluate(X_test, Y_test, verbose=0)\n",
    "# score = [loss, accuracy]\n",
    "print(f'Test accuracy = {score[1]} Test loss = {score[0]}')"
   ]
  },
  {
   "cell_type": "markdown",
   "metadata": {
    "id": "38RIrc430u7Z"
   },
   "source": [
    "* Также можно посчитать вероятности классов по любому входу с помощью метода predict()"
   ]
  },
  {
   "cell_type": "code",
   "execution_count": null,
   "metadata": {
    "executionInfo": {
     "elapsed": 57266,
     "status": "ok",
     "timestamp": 1616432154137,
     "user": {
      "displayName": "anCHORiTetube",
      "photoUrl": "https://lh3.googleusercontent.com/a-/AOh14GjlF70ylFUkflOtfl-95qj8E6hxIhGsdT_HnI6w=s64",
      "userId": "08448648298728435853"
     },
     "user_tz": -180
    },
    "id": "Xnqc_0vKZFPI"
   },
   "outputs": [],
   "source": [
    "pred_y = model.predict(X_test, verbose=0)"
   ]
  },
  {
   "cell_type": "markdown",
   "metadata": {
    "id": "hFn5Pf361K2q"
   },
   "source": [
    "* Сравним для случайного изображения из теста его предсказание и правильный ответ"
   ]
  },
  {
   "cell_type": "code",
   "execution_count": null,
   "metadata": {
    "colab": {
     "base_uri": "https://localhost:8080/"
    },
    "executionInfo": {
     "elapsed": 57260,
     "status": "ok",
     "timestamp": 1616432154139,
     "user": {
      "displayName": "anCHORiTetube",
      "photoUrl": "https://lh3.googleusercontent.com/a-/AOh14GjlF70ylFUkflOtfl-95qj8E6hxIhGsdT_HnI6w=s64",
      "userId": "08448648298728435853"
     },
     "user_tz": -180
    },
    "id": "gxVcpCs0eJnm",
    "outputId": "b171a30a-dd4b-4c00-a389-03dd3249edce"
   },
   "outputs": [],
   "source": [
    "index = 123\n",
    "corr_ans = y_test[index]\n",
    "pred_ans_categorical = pred_y[index]\n",
    "pred_ans = np.argmax(pred_ans_categorical)\n",
    "print(f'Correct answer = {corr_ans}')\n",
    "print(f'Predicted probabilities = {pred_ans_categorical}')\n",
    "print(f'Predicted class = {pred_ans}')"
   ]
  },
  {
   "cell_type": "markdown",
   "metadata": {
    "id": "IrYZEKro17EC"
   },
   "source": [
    "\n",
    "\n",
    "---\n",
    "\n"
   ]
  },
  {
   "cell_type": "markdown",
   "metadata": {
    "id": "Dzi12W0819Ty"
   },
   "source": [
    "* Более полная информация по встроенным базам данных: [datasets](https://keras.io/api/datasets/)\n",
    "* Более полная информация по встроенным слоям: [layers](https://keras.io/api/layers/)\n",
    "* Более полная информация по функциям работы с моделью: [model](https://keras.io/api/models/model_training_apis/)"
   ]
  }
 ],
 "metadata": {
  "accelerator": "GPU",
  "colab": {
   "collapsed_sections": [],
   "name": "Seminar05-train_cnn_keras.ipynb",
   "provenance": [
    {
     "file_id": "https://github.com/mlcoursemm/cvcoursemm2019autumn/blob/master/seminars/01_keras_intro.ipynb",
     "timestamp": 1616427648122
    }
   ]
  },
  "kernelspec": {
   "display_name": "Python 3",
   "language": "python",
   "name": "python3"
  },
  "language_info": {
   "codemirror_mode": {
    "name": "ipython",
    "version": 3
   },
   "file_extension": ".py",
   "mimetype": "text/x-python",
   "name": "python",
   "nbconvert_exporter": "python",
   "pygments_lexer": "ipython3",
   "version": "3.7.3"
  }
 },
 "nbformat": 4,
 "nbformat_minor": 1
}
